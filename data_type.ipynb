{
 "cells": [
  {
   "cell_type": "markdown",
   "id": "cd5b8cf3",
   "metadata": {},
   "source": [
    "Date_type"
   ]
  },
  {
   "cell_type": "code",
   "execution_count": 1,
   "id": "3c26cf6b",
   "metadata": {},
   "outputs": [],
   "source": [
    "nums = 2"
   ]
  },
  {
   "cell_type": "code",
   "execution_count": 2,
   "id": "59475fa7",
   "metadata": {},
   "outputs": [
    {
     "data": {
      "text/plain": [
       "2"
      ]
     },
     "execution_count": 2,
     "metadata": {},
     "output_type": "execute_result"
    }
   ],
   "source": [
    "nums"
   ]
  },
  {
   "cell_type": "code",
   "execution_count": 11,
   "id": "91bffd1b",
   "metadata": {},
   "outputs": [],
   "source": [
    "nums = 9"
   ]
  },
  {
   "cell_type": "code",
   "execution_count": 10,
   "id": "c5a8d1af",
   "metadata": {},
   "outputs": [
    {
     "data": {
      "text/plain": [
       "4"
      ]
     },
     "execution_count": 10,
     "metadata": {},
     "output_type": "execute_result"
    }
   ],
   "source": [
    "nums"
   ]
  },
  {
   "cell_type": "code",
   "execution_count": 6,
   "id": "643daf73",
   "metadata": {},
   "outputs": [],
   "source": [
    "nums + nums"
   ]
  },
  {
   "cell_type": "code",
   "execution_count": 9,
   "id": "ae95f914",
   "metadata": {},
   "outputs": [
    {
     "data": {
      "text/plain": [
       "4"
      ]
     },
     "execution_count": 9,
     "metadata": {},
     "output_type": "execute_result"
    }
   ],
   "source": [
    "nums"
   ]
  },
  {
   "cell_type": "code",
   "execution_count": 12,
   "id": "e296a4db",
   "metadata": {},
   "outputs": [],
   "source": [
    "a = 9"
   ]
  },
  {
   "cell_type": "code",
   "execution_count": 13,
   "id": "812a5bc2",
   "metadata": {},
   "outputs": [
    {
     "data": {
      "text/plain": [
       "9"
      ]
     },
     "execution_count": 13,
     "metadata": {},
     "output_type": "execute_result"
    }
   ],
   "source": [
    "a"
   ]
  },
  {
   "cell_type": "code",
   "execution_count": 14,
   "id": "a1af76d3",
   "metadata": {},
   "outputs": [
    {
     "data": {
      "text/plain": [
       "18"
      ]
     },
     "execution_count": 14,
     "metadata": {},
     "output_type": "execute_result"
    }
   ],
   "source": [
    "a + a "
   ]
  },
  {
   "cell_type": "code",
   "execution_count": 18,
   "id": "19576420",
   "metadata": {},
   "outputs": [],
   "source": [
    "a = a + a"
   ]
  },
  {
   "cell_type": "code",
   "execution_count": 21,
   "id": "35ce9f50",
   "metadata": {},
   "outputs": [
    {
     "data": {
      "text/plain": [
       "72"
      ]
     },
     "execution_count": 21,
     "metadata": {},
     "output_type": "execute_result"
    }
   ],
   "source": [
    "a"
   ]
  },
  {
   "cell_type": "code",
   "execution_count": 22,
   "id": "81e08391",
   "metadata": {},
   "outputs": [
    {
     "data": {
      "text/plain": [
       "int"
      ]
     },
     "execution_count": 22,
     "metadata": {},
     "output_type": "execute_result"
    }
   ],
   "source": [
    "type(a)"
   ]
  },
  {
   "cell_type": "code",
   "execution_count": 23,
   "id": "8546f121",
   "metadata": {},
   "outputs": [],
   "source": [
    "a = 2.4"
   ]
  },
  {
   "cell_type": "code",
   "execution_count": 24,
   "id": "88f76062",
   "metadata": {},
   "outputs": [
    {
     "data": {
      "text/plain": [
       "float"
      ]
     },
     "execution_count": 24,
     "metadata": {},
     "output_type": "execute_result"
    }
   ],
   "source": [
    "type(a)"
   ]
  },
  {
   "cell_type": "code",
   "execution_count": null,
   "id": "1c8aa664",
   "metadata": {},
   "outputs": [],
   "source": [
    "hours = 8\n",
    "payment_per_hours = 30\n",
    "total_working_days = 21\n",
    "my_income = (Numbers FAQ \n",
    "\n",
    "1. What's the difference between floating point and an integer?\n",
    "\n",
    "An integer has no decimals in it, a floating point number can display digits past the decimal point.\n",
    "\n",
    "2. Why doesn't 0.1+0.2-0.3 equal 0.0 ?\n",
    "\n",
    "This has to do with floating point accuracy and computer's abilities to represent numbers in memory. For a full breakdown, check out: https://docs.python.org/2/tutorial/floatingpoint.html)"
   ]
  },
  {
   "cell_type": "code",
   "execution_count": 1,
   "id": "13d635d9",
   "metadata": {},
   "outputs": [],
   "source": [
    "my_income = (30*8)*21\n",
    "tax_rates = 0.1 # 10%\n",
    "my_taxes = my_income*tax_rates\n"
   ]
  },
  {
   "cell_type": "code",
   "execution_count": 2,
   "id": "31a0e724",
   "metadata": {},
   "outputs": [
    {
     "data": {
      "text/plain": [
       "504.0"
      ]
     },
     "execution_count": 2,
     "metadata": {},
     "output_type": "execute_result"
    }
   ],
   "source": [
    "my_taxes"
   ]
  },
  {
   "cell_type": "code",
   "execution_count": 3,
   "id": "b740a0db",
   "metadata": {},
   "outputs": [
    {
     "data": {
      "text/plain": [
       "5040"
      ]
     },
     "execution_count": 3,
     "metadata": {},
     "output_type": "execute_result"
    }
   ],
   "source": [
    "my_income"
   ]
  },
  {
   "cell_type": "code",
   "execution_count": null,
   "id": "0d99c1d6",
   "metadata": {},
   "outputs": [],
   "source": []
  }
 ],
 "metadata": {
  "kernelspec": {
   "display_name": "Python 3",
   "language": "python",
   "name": "python3"
  },
  "language_info": {
   "codemirror_mode": {
    "name": "ipython",
    "version": 3
   },
   "file_extension": ".py",
   "mimetype": "text/x-python",
   "name": "python",
   "nbconvert_exporter": "python",
   "pygments_lexer": "ipython3",
   "version": "3.8.8"
  }
 },
 "nbformat": 4,
 "nbformat_minor": 5
}
