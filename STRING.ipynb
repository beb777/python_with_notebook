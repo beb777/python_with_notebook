{
 "cells": [
  {
   "cell_type": "markdown",
   "id": "24dc4b29",
   "metadata": {},
   "source": [
    "string\n",
    "ordered sequence \n",
    "with index position \n",
    "last index -1\n",
    "slice start \n",
    "stop \n",
    "step"
   ]
  },
  {
   "cell_type": "code",
   "execution_count": 1,
   "id": "6a9502f9",
   "metadata": {},
   "outputs": [
    {
     "data": {
      "text/plain": [
       "'hello'"
      ]
     },
     "execution_count": 1,
     "metadata": {},
     "output_type": "execute_result"
    }
   ],
   "source": [
    "'hello'"
   ]
  },
  {
   "cell_type": "code",
   "execution_count": 2,
   "id": "6db239b0",
   "metadata": {},
   "outputs": [
    {
     "data": {
      "text/plain": [
       "'hello there'"
      ]
     },
     "execution_count": 2,
     "metadata": {},
     "output_type": "execute_result"
    }
   ],
   "source": [
    "\"hello there\""
   ]
  },
  {
   "cell_type": "code",
   "execution_count": 3,
   "id": "92ffddd2",
   "metadata": {},
   "outputs": [
    {
     "data": {
      "text/plain": [
       "\"I'm here to learn\""
      ]
     },
     "execution_count": 3,
     "metadata": {},
     "output_type": "execute_result"
    }
   ],
   "source": [
    "\"I'm here to learn\""
   ]
  },
  {
   "cell_type": "code",
   "execution_count": 4,
   "id": "6af414ef",
   "metadata": {},
   "outputs": [
    {
     "data": {
      "text/plain": [
       "'this is the main idea of\"python\"'"
      ]
     },
     "execution_count": 4,
     "metadata": {},
     "output_type": "execute_result"
    }
   ],
   "source": [
    "'this is the main idea of \"python\"'"
   ]
  },
  {
   "cell_type": "code",
   "execution_count": 5,
   "id": "8479e676",
   "metadata": {},
   "outputs": [
    {
     "name": "stdout",
     "output_type": "stream",
     "text": [
      "7\n",
      "here\n"
     ]
    }
   ],
   "source": [
    "print('7')\n",
    "print('here')"
   ]
  },
  {
   "cell_type": "code",
   "execution_count": 6,
   "id": "260f2593",
   "metadata": {},
   "outputs": [
    {
     "name": "stdout",
     "output_type": "stream",
     "text": [
      "i love numeber\n",
      " 7\n"
     ]
    }
   ],
   "source": [
    "print('i love numeber\\n 7')"
   ]
  },
  {
   "cell_type": "code",
   "execution_count": 7,
   "id": "e0f8accb",
   "metadata": {},
   "outputs": [
    {
     "name": "stdout",
     "output_type": "stream",
     "text": [
      "i love numeber\t 7\n"
     ]
    }
   ],
   "source": [
    "print('i love numeber\\t 7')"
   ]
  },
  {
   "cell_type": "code",
   "execution_count": 8,
   "id": "83c251be",
   "metadata": {},
   "outputs": [
    {
     "data": {
      "text/plain": [
       "17"
      ]
     },
     "execution_count": 8,
     "metadata": {},
     "output_type": "execute_result"
    }
   ],
   "source": [
    "len('i love numeber\\n 7')"
   ]
  },
  {
   "cell_type": "code",
   "execution_count": 9,
   "id": "ff0abd3d",
   "metadata": {},
   "outputs": [
    {
     "data": {
      "text/plain": [
       "16"
      ]
     },
     "execution_count": 9,
     "metadata": {},
     "output_type": "execute_result"
    }
   ],
   "source": [
    "len('i love numeber 7')"
   ]
  },
  {
   "cell_type": "code",
   "execution_count": 10,
   "id": "1a1f815c",
   "metadata": {},
   "outputs": [],
   "source": [
    "my_string = 'i love numeber 7'"
   ]
  },
  {
   "cell_type": "code",
   "execution_count": 11,
   "id": "224cd18c",
   "metadata": {},
   "outputs": [
    {
     "data": {
      "text/plain": [
       "'i love numeber 7'"
      ]
     },
     "execution_count": 11,
     "metadata": {},
     "output_type": "execute_result"
    }
   ],
   "source": [
    "my_string"
   ]
  },
  {
   "cell_type": "code",
   "execution_count": 12,
   "id": "5bcb573f",
   "metadata": {},
   "outputs": [
    {
     "data": {
      "text/plain": [
       "'7'"
      ]
     },
     "execution_count": 12,
     "metadata": {},
     "output_type": "execute_result"
    }
   ],
   "source": []
  },
  {
   "cell_type": "code",
   "execution_count": 11,
   "id": "a05f1d40",
   "metadata": {},
   "outputs": [],
   "source": [
    "#my_string[-1]\n"
   ]
  },
  {
   "cell_type": "code",
   "execution_count": 3,
   "id": "add70bc9",
   "metadata": {},
   "outputs": [],
   "source": [
    "name = 'love you'"
   ]
  },
  {
   "cell_type": "code",
   "execution_count": 4,
   "id": "d1cf9916",
   "metadata": {},
   "outputs": [
    {
     "data": {
      "text/plain": [
       "'you'"
      ]
     },
     "execution_count": 4,
     "metadata": {},
     "output_type": "execute_result"
    }
   ],
   "source": [
    "name[5:8]"
   ]
  },
  {
   "cell_type": "code",
   "execution_count": 5,
   "id": "b057e8b3",
   "metadata": {},
   "outputs": [
    {
     "data": {
      "text/plain": [
       "'lov'"
      ]
     },
     "execution_count": 5,
     "metadata": {},
     "output_type": "execute_result"
    }
   ],
   "source": [
    "name[:3]"
   ]
  },
  {
   "cell_type": "code",
   "execution_count": 6,
   "id": "f2c3c1bd",
   "metadata": {},
   "outputs": [
    {
     "data": {
      "text/plain": [
       "'ove you'"
      ]
     },
     "execution_count": 6,
     "metadata": {},
     "output_type": "execute_result"
    }
   ],
   "source": [
    "name[1:]"
   ]
  },
  {
   "cell_type": "code",
   "execution_count": 7,
   "id": "93094259",
   "metadata": {},
   "outputs": [
    {
     "data": {
      "text/plain": [
       "'love you'"
      ]
     },
     "execution_count": 7,
     "metadata": {},
     "output_type": "execute_result"
    }
   ],
   "source": [
    "name[::]"
   ]
  },
  {
   "cell_type": "code",
   "execution_count": 8,
   "id": "deaf15ec",
   "metadata": {},
   "outputs": [
    {
     "data": {
      "text/plain": [
       "'lv o'"
      ]
     },
     "execution_count": 8,
     "metadata": {},
     "output_type": "execute_result"
    }
   ],
   "source": [
    "name[::2]"
   ]
  },
  {
   "cell_type": "code",
   "execution_count": 9,
   "id": "0ef4d05e",
   "metadata": {},
   "outputs": [
    {
     "data": {
      "text/plain": [
       "'v'"
      ]
     },
     "execution_count": 9,
     "metadata": {},
     "output_type": "execute_result"
    }
   ],
   "source": [
    "name[2:5:7]"
   ]
  },
  {
   "cell_type": "code",
   "execution_count": 10,
   "id": "ec9227df",
   "metadata": {},
   "outputs": [
    {
     "data": {
      "text/plain": [
       "'uoy evol'"
      ]
     },
     "execution_count": 10,
     "metadata": {},
     "output_type": "execute_result"
    }
   ],
   "source": [
    "name[::-1]"
   ]
  },
  {
   "cell_type": "code",
   "execution_count": 12,
   "id": "d2c247e6",
   "metadata": {},
   "outputs": [],
   "source": [
    "love = 'number'"
   ]
  },
  {
   "cell_type": "code",
   "execution_count": 13,
   "id": "89273311",
   "metadata": {},
   "outputs": [],
   "source": [
    "numbers = 7"
   ]
  },
  {
   "cell_type": "code",
   "execution_count": 16,
   "id": "efc08156",
   "metadata": {},
   "outputs": [
    {
     "data": {
      "text/plain": [
       "'7 number'"
      ]
     },
     "execution_count": 16,
     "metadata": {},
     "output_type": "execute_result"
    }
   ],
   "source": [
    "'7 ' + love"
   ]
  },
  {
   "cell_type": "code",
   "execution_count": 17,
   "id": "c5d06278",
   "metadata": {},
   "outputs": [
    {
     "data": {
      "text/plain": [
       "'7number'"
      ]
     },
     "execution_count": 17,
     "metadata": {},
     "output_type": "execute_result"
    }
   ],
   "source": [
    "'7' + love"
   ]
  },
  {
   "cell_type": "code",
   "execution_count": 18,
   "id": "15dd60c2",
   "metadata": {},
   "outputs": [
    {
     "data": {
      "text/plain": [
       "'numbernumbernumbernumbernumbernumbernumbernumbernumbernumber'"
      ]
     },
     "execution_count": 18,
     "metadata": {},
     "output_type": "execute_result"
    }
   ],
   "source": [
    "love * 10"
   ]
  },
  {
   "cell_type": "code",
   "execution_count": 19,
   "id": "1ead415f",
   "metadata": {},
   "outputs": [
    {
     "data": {
      "text/plain": [
       "'58'"
      ]
     },
     "execution_count": 19,
     "metadata": {},
     "output_type": "execute_result"
    }
   ],
   "source": [
    "'5' + '8'#string concatination "
   ]
  },
  {
   "cell_type": "code",
   "execution_count": 20,
   "id": "2a7511d8",
   "metadata": {},
   "outputs": [
    {
     "data": {
      "text/plain": [
       "13"
      ]
     },
     "execution_count": 20,
     "metadata": {},
     "output_type": "execute_result"
    }
   ],
   "source": [
    "5 + 8"
   ]
  },
  {
   "cell_type": "code",
   "execution_count": 21,
   "id": "33c8190d",
   "metadata": {},
   "outputs": [],
   "source": [
    "b = 'methods'"
   ]
  },
  {
   "cell_type": "code",
   "execution_count": 22,
   "id": "8027edcf",
   "metadata": {},
   "outputs": [
    {
     "data": {
      "text/plain": [
       "'METHODS'"
      ]
     },
     "execution_count": 22,
     "metadata": {},
     "output_type": "execute_result"
    }
   ],
   "source": [
    "b.upper()"
   ]
  },
  {
   "cell_type": "code",
   "execution_count": 23,
   "id": "4edb649f",
   "metadata": {},
   "outputs": [
    {
     "data": {
      "text/plain": [
       "'Methods'"
      ]
     },
     "execution_count": 23,
     "metadata": {},
     "output_type": "execute_result"
    }
   ],
   "source": [
    "b.title()"
   ]
  },
  {
   "cell_type": "code",
   "execution_count": 25,
   "id": "7a562f62",
   "metadata": {},
   "outputs": [
    {
     "data": {
      "text/plain": [
       "['methods']"
      ]
     },
     "execution_count": 25,
     "metadata": {},
     "output_type": "execute_result"
    }
   ],
   "source": [
    "b.split()"
   ]
  },
  {
   "cell_type": "code",
   "execution_count": 26,
   "id": "799fc2fa",
   "metadata": {},
   "outputs": [
    {
     "data": {
      "text/plain": [
       "['meth', 'ds']"
      ]
     },
     "execution_count": 26,
     "metadata": {},
     "output_type": "execute_result"
    }
   ],
   "source": [
    "b.split('o')"
   ]
  },
  {
   "cell_type": "markdown",
   "id": "6c99a39e",
   "metadata": {},
   "source": [
    "Strings -FAQ\n",
    "\n",
    "Strings FAQ\n",
    "\n",
    "1. Are strings mutable?\n",
    "\n",
    "Strings are not mutable! (meaning you can't use indexing to change individual elements of a string)\n",
    "\n",
    "2. How do I create comments in my code?\n",
    "\n",
    "You can use the hashtag # to create comments in your code\n",
    "\n",
    "\n"
   ]
  },
  {
   "cell_type": "code",
   "execution_count": 27,
   "id": "9949016c",
   "metadata": {},
   "outputs": [],
   "source": [
    "first_name = 'join'"
   ]
  },
  {
   "cell_type": "code",
   "execution_count": 29,
   "id": "814d9423",
   "metadata": {},
   "outputs": [
    {
     "name": "stdout",
     "output_type": "stream",
     "text": [
      "hello join\n"
     ]
    }
   ],
   "source": [
    "print('hello ' + first_name)"
   ]
  },
  {
   "cell_type": "code",
   "execution_count": 30,
   "id": "37d1ae83",
   "metadata": {},
   "outputs": [
    {
     "name": "stdout",
     "output_type": "stream",
     "text": [
      "this is string Inserted\n"
     ]
    }
   ],
   "source": [
    "print('this is string {}'.format('Inserted'))"
   ]
  },
  {
   "cell_type": "code",
   "execution_count": 31,
   "id": "656462cb",
   "metadata": {},
   "outputs": [
    {
     "name": "stdout",
     "output_type": "stream",
     "text": [
      "this is adding two\n"
     ]
    }
   ],
   "source": [
    "print('this is {} {}'.format('adding','two'))"
   ]
  },
  {
   "cell_type": "code",
   "execution_count": 32,
   "id": "5be4cfbb",
   "metadata": {},
   "outputs": [
    {
     "name": "stdout",
     "output_type": "stream",
     "text": [
      "this is two adding\n"
     ]
    }
   ],
   "source": [
    "print('this is {1} {0}'.format('adding','two'))"
   ]
  },
  {
   "cell_type": "code",
   "execution_count": 33,
   "id": "5fb6076d",
   "metadata": {},
   "outputs": [
    {
     "name": "stdout",
     "output_type": "stream",
     "text": [
      "this is two adding\n"
     ]
    }
   ],
   "source": [
    "print('this is {s} {f}'.format(f='adding',s='two'))"
   ]
  },
  {
   "cell_type": "code",
   "execution_count": 34,
   "id": "e30cc982",
   "metadata": {},
   "outputs": [],
   "source": [
    "result = 1/34"
   ]
  },
  {
   "cell_type": "code",
   "execution_count": 35,
   "id": "697133b3",
   "metadata": {},
   "outputs": [
    {
     "data": {
      "text/plain": [
       "0.029411764705882353"
      ]
     },
     "execution_count": 35,
     "metadata": {},
     "output_type": "execute_result"
    }
   ],
   "source": [
    "result"
   ]
  },
  {
   "cell_type": "code",
   "execution_count": 38,
   "id": "6d66c0f6",
   "metadata": {},
   "outputs": [
    {
     "name": "stdout",
     "output_type": "stream",
     "text": [
      "the result0.02941\n"
     ]
    }
   ],
   "source": [
    "print('the result{r:1.5f}'.format(r=result))"
   ]
  },
  {
   "cell_type": "code",
   "execution_count": 41,
   "id": "7d83ac9b",
   "metadata": {},
   "outputs": [
    {
     "name": "stdout",
     "output_type": "stream",
     "text": [
      "the result is0.029411764705882353\n"
     ]
    }
   ],
   "source": [
    "print(f'the result is{result}')# f-string"
   ]
  },
  {
   "cell_type": "markdown",
   "id": "0d5c8291",
   "metadata": {},
   "source": [
    "Print Formatting FAQs\n",
    "\n",
    "Print Formatting FAQS\n",
    "\n",
    "1.) I imported print from the __future__ module, now print isn't working. What happened?\n",
    "\n",
    "This is because once you import from the __future__ module in Python 2.7, a print statement will no longer work, and print must then use a print() function. Meaning that you must use\n",
    "\n",
    "print('Whatever you were going to print')\n",
    "\n",
    "or if you are using some formatting:\n",
    "\n",
    "print('This is a string with an {p}'.format(p='insert'))\n",
    "\n",
    "The __future__ module allows you to use Python3 functionality in a Python2 environment, but some functionality is overwritten (such as the print statement, or classic division when you import division).\n",
    "\n",
    "Since we are using Jupyter Notebooks, once you so the import, all cells will require the use if the print() function. You will have to restart Python or start a new notebook to regain the old functionality back.\n",
    "\n",
    "HERE IS AN AWESOME SOURCE FOR PRINT FORMATTING:\n",
    "\n",
    "https://pyformat.info/"
   ]
  },
  {
   "cell_type": "code",
   "execution_count": null,
   "id": "d6eaa8ac",
   "metadata": {},
   "outputs": [],
   "source": []
  }
 ],
 "metadata": {
  "kernelspec": {
   "display_name": "Python 3",
   "language": "python",
   "name": "python3"
  },
  "language_info": {
   "codemirror_mode": {
    "name": "ipython",
    "version": 3
   },
   "file_extension": ".py",
   "mimetype": "text/x-python",
   "name": "python",
   "nbconvert_exporter": "python",
   "pygments_lexer": "ipython3",
   "version": "3.8.8"
  }
 },
 "nbformat": 4,
 "nbformat_minor": 5
}
